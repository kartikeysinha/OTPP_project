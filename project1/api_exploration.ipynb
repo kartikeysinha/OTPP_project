{
 "cells": [
  {
   "cell_type": "code",
   "execution_count": 1,
   "metadata": {},
   "outputs": [],
   "source": [
    "import pandas as pd\n",
    "import numpy as np\n",
    "import requests\n",
    "import os\n",
    "import dotenv\n",
    "import datetime as dt\n",
    "\n",
    "# import secrets"
   ]
  },
  {
   "cell_type": "code",
   "execution_count": 2,
   "metadata": {},
   "outputs": [
    {
     "data": {
      "text/plain": [
       "True"
      ]
     },
     "execution_count": 2,
     "metadata": {},
     "output_type": "execute_result"
    }
   ],
   "source": [
    "dotenv.load_dotenv()"
   ]
  },
  {
   "cell_type": "markdown",
   "metadata": {},
   "source": [
    "# Alpha Vantage"
   ]
  },
  {
   "cell_type": "code",
   "execution_count": 27,
   "metadata": {},
   "outputs": [
    {
     "data": {
      "text/html": [
       "<div>\n",
       "<style scoped>\n",
       "    .dataframe tbody tr th:only-of-type {\n",
       "        vertical-align: middle;\n",
       "    }\n",
       "\n",
       "    .dataframe tbody tr th {\n",
       "        vertical-align: top;\n",
       "    }\n",
       "\n",
       "    .dataframe thead th {\n",
       "        text-align: right;\n",
       "    }\n",
       "</style>\n",
       "<table border=\"1\" class=\"dataframe\">\n",
       "  <thead>\n",
       "    <tr style=\"text-align: right;\">\n",
       "      <th></th>\n",
       "      <th>1. open</th>\n",
       "      <th>2. high</th>\n",
       "      <th>3. low</th>\n",
       "      <th>4. close</th>\n",
       "      <th>5. volume</th>\n",
       "    </tr>\n",
       "  </thead>\n",
       "  <tbody>\n",
       "    <tr>\n",
       "      <th>2009-01-30 19:55:00</th>\n",
       "      <td>52.0630</td>\n",
       "      <td>52.2570</td>\n",
       "      <td>51.7920</td>\n",
       "      <td>51.9970</td>\n",
       "      <td>209</td>\n",
       "    </tr>\n",
       "    <tr>\n",
       "      <th>2009-01-30 17:40:00</th>\n",
       "      <td>52.0920</td>\n",
       "      <td>52.2850</td>\n",
       "      <td>51.8200</td>\n",
       "      <td>52.0250</td>\n",
       "      <td>84726</td>\n",
       "    </tr>\n",
       "    <tr>\n",
       "      <th>2009-01-30 17:15:00</th>\n",
       "      <td>52.4020</td>\n",
       "      <td>52.5960</td>\n",
       "      <td>52.1290</td>\n",
       "      <td>52.3350</td>\n",
       "      <td>2651</td>\n",
       "    </tr>\n",
       "    <tr>\n",
       "      <th>2009-01-30 17:10:00</th>\n",
       "      <td>52.0920</td>\n",
       "      <td>52.2850</td>\n",
       "      <td>51.8200</td>\n",
       "      <td>52.0250</td>\n",
       "      <td>359</td>\n",
       "    </tr>\n",
       "    <tr>\n",
       "      <th>2009-01-30 17:05:00</th>\n",
       "      <td>51.8930</td>\n",
       "      <td>52.0910</td>\n",
       "      <td>51.6230</td>\n",
       "      <td>51.8320</td>\n",
       "      <td>334</td>\n",
       "    </tr>\n",
       "    <tr>\n",
       "      <th>...</th>\n",
       "      <td>...</td>\n",
       "      <td>...</td>\n",
       "      <td>...</td>\n",
       "      <td>...</td>\n",
       "      <td>...</td>\n",
       "    </tr>\n",
       "    <tr>\n",
       "      <th>2009-01-02 08:30:00</th>\n",
       "      <td>47.8350</td>\n",
       "      <td>48.0120</td>\n",
       "      <td>47.5850</td>\n",
       "      <td>47.7730</td>\n",
       "      <td>9110</td>\n",
       "    </tr>\n",
       "    <tr>\n",
       "      <th>2009-01-02 08:25:00</th>\n",
       "      <td>47.8350</td>\n",
       "      <td>48.0120</td>\n",
       "      <td>47.5850</td>\n",
       "      <td>47.7730</td>\n",
       "      <td>1733</td>\n",
       "    </tr>\n",
       "    <tr>\n",
       "      <th>2009-01-02 08:15:00</th>\n",
       "      <td>47.8400</td>\n",
       "      <td>48.0180</td>\n",
       "      <td>47.5910</td>\n",
       "      <td>47.7790</td>\n",
       "      <td>104</td>\n",
       "    </tr>\n",
       "    <tr>\n",
       "      <th>2009-01-02 08:05:00</th>\n",
       "      <td>47.8350</td>\n",
       "      <td>48.0120</td>\n",
       "      <td>47.5850</td>\n",
       "      <td>47.7730</td>\n",
       "      <td>1733</td>\n",
       "    </tr>\n",
       "    <tr>\n",
       "      <th>2009-01-02 08:00:00</th>\n",
       "      <td>48.0280</td>\n",
       "      <td>48.2060</td>\n",
       "      <td>47.7780</td>\n",
       "      <td>47.9660</td>\n",
       "      <td>104</td>\n",
       "    </tr>\n",
       "  </tbody>\n",
       "</table>\n",
       "<p>2088 rows × 5 columns</p>\n",
       "</div>"
      ],
      "text/plain": [
       "                     1. open  2. high   3. low 4. close 5. volume\n",
       "2009-01-30 19:55:00  52.0630  52.2570  51.7920  51.9970       209\n",
       "2009-01-30 17:40:00  52.0920  52.2850  51.8200  52.0250     84726\n",
       "2009-01-30 17:15:00  52.4020  52.5960  52.1290  52.3350      2651\n",
       "2009-01-30 17:10:00  52.0920  52.2850  51.8200  52.0250       359\n",
       "2009-01-30 17:05:00  51.8930  52.0910  51.6230  51.8320       334\n",
       "...                      ...      ...      ...      ...       ...\n",
       "2009-01-02 08:30:00  47.8350  48.0120  47.5850  47.7730      9110\n",
       "2009-01-02 08:25:00  47.8350  48.0120  47.5850  47.7730      1733\n",
       "2009-01-02 08:15:00  47.8400  48.0180  47.5910  47.7790       104\n",
       "2009-01-02 08:05:00  47.8350  48.0120  47.5850  47.7730      1733\n",
       "2009-01-02 08:00:00  48.0280  48.2060  47.7780  47.9660       104\n",
       "\n",
       "[2088 rows x 5 columns]"
      ]
     },
     "execution_count": 27,
     "metadata": {},
     "output_type": "execute_result"
    }
   ],
   "source": [
    "function_name=\"TIME_SERIES_INTRADAY\"\n",
    "symbol=\"IBM\"\n",
    "interval=\"60min\"\n",
    "apikey=os.environ.get(\"ALPHA_VANTAGE_API_KEY\")\n",
    "\n",
    "url = f'https://www.alphavantage.co/query?function={function_name}&symbol={symbol}&interval={interval}&apikey={apikey}&outputsize=full&month=2009-01'\n",
    "r = requests.get(url)\n",
    "data = r.json()\n",
    "\n",
    "pd.DataFrame.from_dict(data[f'Time Series ({interval})'], orient='index')"
   ]
  },
  {
   "cell_type": "code",
   "execution_count": 28,
   "metadata": {},
   "outputs": [
    {
     "ename": "KeyError",
     "evalue": "'Time Series (5min)'",
     "output_type": "error",
     "traceback": [
      "\u001b[0;31m---------------------------------------------------------------------------\u001b[0m",
      "\u001b[0;31mKeyError\u001b[0m                                  Traceback (most recent call last)",
      "\u001b[1;32m/Users/kartikeysinha/Desktop/ktk_dev.nosync/github/OTPP_project/project1/api_exploration.ipynb Cell 5\u001b[0m line \u001b[0;36m1\n\u001b[1;32m      <a href='vscode-notebook-cell:/Users/kartikeysinha/Desktop/ktk_dev.nosync/github/OTPP_project/project1/api_exploration.ipynb#W5sZmlsZQ%3D%3D?line=6'>7</a>\u001b[0m r \u001b[39m=\u001b[39m requests\u001b[39m.\u001b[39mget(url)\n\u001b[1;32m      <a href='vscode-notebook-cell:/Users/kartikeysinha/Desktop/ktk_dev.nosync/github/OTPP_project/project1/api_exploration.ipynb#W5sZmlsZQ%3D%3D?line=7'>8</a>\u001b[0m data \u001b[39m=\u001b[39m r\u001b[39m.\u001b[39mjson()\n\u001b[0;32m---> <a href='vscode-notebook-cell:/Users/kartikeysinha/Desktop/ktk_dev.nosync/github/OTPP_project/project1/api_exploration.ipynb#W5sZmlsZQ%3D%3D?line=9'>10</a>\u001b[0m pd\u001b[39m.\u001b[39mDataFrame\u001b[39m.\u001b[39mfrom_dict(data[\u001b[39mf\u001b[39;49m\u001b[39m'\u001b[39;49m\u001b[39mTime Series (\u001b[39;49m\u001b[39m{\u001b[39;49;00minterval\u001b[39m}\u001b[39;49;00m\u001b[39m)\u001b[39;49m\u001b[39m'\u001b[39;49m], orient\u001b[39m=\u001b[39m\u001b[39m'\u001b[39m\u001b[39mindex\u001b[39m\u001b[39m'\u001b[39m)\n",
      "\u001b[0;31mKeyError\u001b[0m: 'Time Series (5min)'"
     ]
    }
   ],
   "source": [
    "function_name=\"TIME_SERIES_INTRADAY\"\n",
    "symbol=\"IBM,AAPL\"\n",
    "interval=\"5min\"\n",
    "apikey=os.environ.get(\"ALPHA_VANTAGE_API_KEY\")\n",
    "\n",
    "url = f'https://www.alphavantage.co/query?function={function_name}&symbol={symbol}&interval={interval}&apikey={apikey}&outputsize=full&month=2009-01'\n",
    "r = requests.get(url)\n",
    "data = r.json()\n",
    "\n",
    "pd.DataFrame.from_dict(data[f'Time Series ({interval})'], orient='index')"
   ]
  },
  {
   "cell_type": "code",
   "execution_count": null,
   "metadata": {},
   "outputs": [],
   "source": [
    "class DataGrabber:\n",
    "\n",
    "    def __init__(self, api_key):\n",
    "        self.api_key = api_key\n",
    "    \n",
    "    def get_prices_data(self):\n",
    "        ...\n",
    "\n",
    "\n",
    "class AlphaVantageAPI(DataGrabber):\n",
    "\n",
    "    def __init__(self, api_key) -> None:\n",
    "        super().__init__(api_key)\n",
    "    \n",
    "    def get_prices_data(\n",
    "        self,\n",
    "        symbol : str,\n",
    "        interval : int,\n",
    "        month : str\n",
    "    ) -> pd.DataFrame:\n",
    "        \n",
    "        base_url = \"https://www.alphavantage.co/query?function=TIME_SERIES_INTRADAY\"\n",
    "        args = f\"&symbol={symbol}&interval={interval}&apikey={apikey}&outputsize=full&month={month}\"\n",
    "        url = base_url + args\n",
    "\n",
    "        r = requests.get(url)\n",
    "        data = r.json()\n",
    "\n",
    "        return pd.DataFrame.from_dict(data[f'Time Series ({interval})'], orient='index')\n",
    "\n"
   ]
  },
  {
   "cell_type": "markdown",
   "metadata": {},
   "source": [
    "# Finnhub"
   ]
  },
  {
   "cell_type": "code",
   "execution_count": 46,
   "metadata": {},
   "outputs": [],
   "source": [
    "import finnhub"
   ]
  },
  {
   "cell_type": "code",
   "execution_count": 47,
   "metadata": {},
   "outputs": [],
   "source": [
    "finnhub_client = finnhub.Client(api_key=os.environ.get(\"FINNHUB_API_KEY\"))"
   ]
  },
  {
   "cell_type": "code",
   "execution_count": 48,
   "metadata": {},
   "outputs": [
    {
     "name": "stdout",
     "output_type": "stream",
     "text": [
      "{'c': 170.73, 'd': 1.73, 'dp': 1.0237, 'h': 173.7, 'l': 168.94, 'o': 169, 'pc': 169, 't': 1709931601}\n"
     ]
    }
   ],
   "source": [
    "print(finnhub_client.quote('AAPL'))"
   ]
  },
  {
   "cell_type": "code",
   "execution_count": 49,
   "metadata": {},
   "outputs": [
    {
     "data": {
      "text/plain": [
       "1709931601"
      ]
     },
     "execution_count": 49,
     "metadata": {},
     "output_type": "execute_result"
    }
   ],
   "source": [
    "finnhub_client.quote('AAPL')['t']"
   ]
  },
  {
   "cell_type": "code",
   "execution_count": 51,
   "metadata": {},
   "outputs": [
    {
     "ename": "FinnhubAPIException",
     "evalue": "FinnhubAPIException(status_code: 403): You don't have access to this resource.",
     "output_type": "error",
     "traceback": [
      "\u001b[0;31m---------------------------------------------------------------------------\u001b[0m",
      "\u001b[0;31mFinnhubAPIException\u001b[0m                       Traceback (most recent call last)",
      "\u001b[1;32m/Users/kartikeysinha/Desktop/ktk_dev.nosync/github/OTPP_project/project1/api_exploration.ipynb Cell 12\u001b[0m line \u001b[0;36m1\n\u001b[0;32m----> <a href='vscode-notebook-cell:/Users/kartikeysinha/Desktop/ktk_dev.nosync/github/OTPP_project/project1/api_exploration.ipynb#X32sZmlsZQ%3D%3D?line=0'>1</a>\u001b[0m finnhub_client\u001b[39m.\u001b[39;49mstock_candles(\n\u001b[1;32m      <a href='vscode-notebook-cell:/Users/kartikeysinha/Desktop/ktk_dev.nosync/github/OTPP_project/project1/api_exploration.ipynb#X32sZmlsZQ%3D%3D?line=1'>2</a>\u001b[0m     symbol\u001b[39m=\u001b[39;49m\u001b[39m\"\u001b[39;49m\u001b[39mIBM\u001b[39;49m\u001b[39m\"\u001b[39;49m,\n\u001b[1;32m      <a href='vscode-notebook-cell:/Users/kartikeysinha/Desktop/ktk_dev.nosync/github/OTPP_project/project1/api_exploration.ipynb#X32sZmlsZQ%3D%3D?line=2'>3</a>\u001b[0m     resolution\u001b[39m=\u001b[39;49m\u001b[39m15\u001b[39;49m,\n\u001b[1;32m      <a href='vscode-notebook-cell:/Users/kartikeysinha/Desktop/ktk_dev.nosync/github/OTPP_project/project1/api_exploration.ipynb#X32sZmlsZQ%3D%3D?line=3'>4</a>\u001b[0m     _from\u001b[39m=\u001b[39;49m\u001b[39m\"\u001b[39;49m\u001b[39m2024-02-01\u001b[39;49m\u001b[39m\"\u001b[39;49m,\n\u001b[1;32m      <a href='vscode-notebook-cell:/Users/kartikeysinha/Desktop/ktk_dev.nosync/github/OTPP_project/project1/api_exploration.ipynb#X32sZmlsZQ%3D%3D?line=4'>5</a>\u001b[0m     to\u001b[39m=\u001b[39;49m\u001b[39m\"\u001b[39;49m\u001b[39m2024-02-29\u001b[39;49m\u001b[39m\"\u001b[39;49m\n\u001b[1;32m      <a href='vscode-notebook-cell:/Users/kartikeysinha/Desktop/ktk_dev.nosync/github/OTPP_project/project1/api_exploration.ipynb#X32sZmlsZQ%3D%3D?line=5'>6</a>\u001b[0m )\n",
      "File \u001b[0;32m~/Desktop/ktk_dev.nosync/github/OTPP_project/.venv/lib/python3.10/site-packages/finnhub/client.py:226\u001b[0m, in \u001b[0;36mClient.stock_candles\u001b[0;34m(self, symbol, resolution, _from, to, **kwargs)\u001b[0m\n\u001b[1;32m    218\u001b[0m \u001b[39mdef\u001b[39;00m \u001b[39mstock_candles\u001b[39m(\u001b[39mself\u001b[39m, symbol, resolution, _from, to, \u001b[39m*\u001b[39m\u001b[39m*\u001b[39mkwargs):\n\u001b[1;32m    219\u001b[0m     params \u001b[39m=\u001b[39m \u001b[39mself\u001b[39m\u001b[39m.\u001b[39m_merge_two_dicts({\n\u001b[1;32m    220\u001b[0m         \u001b[39m\"\u001b[39m\u001b[39msymbol\u001b[39m\u001b[39m\"\u001b[39m: symbol,\n\u001b[1;32m    221\u001b[0m         \u001b[39m\"\u001b[39m\u001b[39mresolution\u001b[39m\u001b[39m\"\u001b[39m: resolution,\n\u001b[1;32m    222\u001b[0m         \u001b[39m\"\u001b[39m\u001b[39mfrom\u001b[39m\u001b[39m\"\u001b[39m: _from,\n\u001b[1;32m    223\u001b[0m         \u001b[39m\"\u001b[39m\u001b[39mto\u001b[39m\u001b[39m\"\u001b[39m: to\n\u001b[1;32m    224\u001b[0m     }, kwargs)\n\u001b[0;32m--> 226\u001b[0m     \u001b[39mreturn\u001b[39;00m \u001b[39mself\u001b[39;49m\u001b[39m.\u001b[39;49m_get(\u001b[39m\"\u001b[39;49m\u001b[39m/stock/candle\u001b[39;49m\u001b[39m\"\u001b[39;49m, params\u001b[39m=\u001b[39;49mparams)\n",
      "File \u001b[0;32m~/Desktop/ktk_dev.nosync/github/OTPP_project/.venv/lib/python3.10/site-packages/finnhub/client.py:71\u001b[0m, in \u001b[0;36mClient._get\u001b[0;34m(self, path, **kwargs)\u001b[0m\n\u001b[1;32m     70\u001b[0m \u001b[39mdef\u001b[39;00m \u001b[39m_get\u001b[39m(\u001b[39mself\u001b[39m, path, \u001b[39m*\u001b[39m\u001b[39m*\u001b[39mkwargs):\n\u001b[0;32m---> 71\u001b[0m     \u001b[39mreturn\u001b[39;00m \u001b[39mself\u001b[39;49m\u001b[39m.\u001b[39;49m_request(\u001b[39m\"\u001b[39;49m\u001b[39mget\u001b[39;49m\u001b[39m\"\u001b[39;49m, path, \u001b[39m*\u001b[39;49m\u001b[39m*\u001b[39;49mkwargs)\n",
      "File \u001b[0;32m~/Desktop/ktk_dev.nosync/github/OTPP_project/.venv/lib/python3.10/site-packages/finnhub/client.py:41\u001b[0m, in \u001b[0;36mClient._request\u001b[0;34m(self, method, path, **kwargs)\u001b[0m\n\u001b[1;32m     38\u001b[0m kwargs[\u001b[39m\"\u001b[39m\u001b[39mparams\u001b[39m\u001b[39m\"\u001b[39m] \u001b[39m=\u001b[39m \u001b[39mself\u001b[39m\u001b[39m.\u001b[39m_format_params(kwargs\u001b[39m.\u001b[39mget(\u001b[39m\"\u001b[39m\u001b[39mparams\u001b[39m\u001b[39m\"\u001b[39m, {}))\n\u001b[1;32m     40\u001b[0m response \u001b[39m=\u001b[39m \u001b[39mgetattr\u001b[39m(\u001b[39mself\u001b[39m\u001b[39m.\u001b[39m_session, method)(uri, \u001b[39m*\u001b[39m\u001b[39m*\u001b[39mkwargs)\n\u001b[0;32m---> 41\u001b[0m \u001b[39mreturn\u001b[39;00m \u001b[39mself\u001b[39;49m\u001b[39m.\u001b[39;49m_handle_response(response)\n",
      "File \u001b[0;32m~/Desktop/ktk_dev.nosync/github/OTPP_project/.venv/lib/python3.10/site-packages/finnhub/client.py:46\u001b[0m, in \u001b[0;36mClient._handle_response\u001b[0;34m(response)\u001b[0m\n\u001b[1;32m     43\u001b[0m \u001b[39m@staticmethod\u001b[39m\n\u001b[1;32m     44\u001b[0m \u001b[39mdef\u001b[39;00m \u001b[39m_handle_response\u001b[39m(response):\n\u001b[1;32m     45\u001b[0m     \u001b[39mif\u001b[39;00m \u001b[39mnot\u001b[39;00m response\u001b[39m.\u001b[39mok:\n\u001b[0;32m---> 46\u001b[0m         \u001b[39mraise\u001b[39;00m FinnhubAPIException(response)\n\u001b[1;32m     48\u001b[0m     \u001b[39mtry\u001b[39;00m:\n\u001b[1;32m     49\u001b[0m         content_type \u001b[39m=\u001b[39m response\u001b[39m.\u001b[39mheaders\u001b[39m.\u001b[39mget(\u001b[39m'\u001b[39m\u001b[39mContent-Type\u001b[39m\u001b[39m'\u001b[39m, \u001b[39m'\u001b[39m\u001b[39m'\u001b[39m)\n",
      "\u001b[0;31mFinnhubAPIException\u001b[0m: FinnhubAPIException(status_code: 403): You don't have access to this resource."
     ]
    }
   ],
   "source": [
    "finnhub_client.stock_candles(\n",
    "    symbol=\"IBM\",\n",
    "    resolution=15,\n",
    "    _from=\"2024-02-01\",\n",
    "    to=\"2024-02-29\"\n",
    ")"
   ]
  },
  {
   "cell_type": "markdown",
   "metadata": {},
   "source": [
    "# Testing the DataGrabber Classes"
   ]
  },
  {
   "cell_type": "code",
   "execution_count": 3,
   "metadata": {},
   "outputs": [],
   "source": [
    "import data_grabber\n",
    "import importlib"
   ]
  },
  {
   "cell_type": "code",
   "execution_count": 4,
   "metadata": {},
   "outputs": [
    {
     "data": {
      "text/plain": [
       "<module 'data_grabber' from '/Users/kartikeysinha/Desktop/ktk_dev.nosync/github/OTPP_project_1/data_grabber.py'>"
      ]
     },
     "execution_count": 4,
     "metadata": {},
     "output_type": "execute_result"
    }
   ],
   "source": [
    "importlib.reload(data_grabber)"
   ]
  },
  {
   "cell_type": "code",
   "execution_count": 6,
   "metadata": {},
   "outputs": [],
   "source": [
    "av = data_grabber.AlphaVantageAPI()\n",
    "fh = data_grabber.FinnHubAPI()\n",
    "yfin = data_grabber.YahooFinance()\n",
    "dg = data_grabber.DataGrabber()"
   ]
  },
  {
   "cell_type": "code",
   "execution_count": 125,
   "metadata": {},
   "outputs": [
    {
     "name": "stderr",
     "output_type": "stream",
     "text": [
      "[*********************100%%**********************]  2 of 2 completed"
     ]
    },
    {
     "name": "stdout",
     "output_type": "stream",
     "text": [
      "NOTE: Getting the latest data available.\n"
     ]
    },
    {
     "name": "stderr",
     "output_type": "stream",
     "text": [
      "\n",
      "/Users/kartikeysinha/Desktop/ktk_dev.nosync/github/OTPP_project/project1/data_grabber.py:127: FutureWarning: DataFrame.fillna with 'method' is deprecated and will raise in a future version. Use obj.ffill() or obj.bfill() instead.\n"
     ]
    }
   ],
   "source": [
    "df = dg.get_prices(\n",
    "    tickers=[\"AAPL\", \"IBM\"],\n",
    "    frequency=\"1m\"\n",
    ")"
   ]
  },
  {
   "cell_type": "code",
   "execution_count": 126,
   "metadata": {},
   "outputs": [
    {
     "data": {
      "text/html": [
       "<div>\n",
       "<style scoped>\n",
       "    .dataframe tbody tr th:only-of-type {\n",
       "        vertical-align: middle;\n",
       "    }\n",
       "\n",
       "    .dataframe tbody tr th {\n",
       "        vertical-align: top;\n",
       "    }\n",
       "\n",
       "    .dataframe thead th {\n",
       "        text-align: right;\n",
       "    }\n",
       "</style>\n",
       "<table border=\"1\" class=\"dataframe\">\n",
       "  <thead>\n",
       "    <tr style=\"text-align: right;\">\n",
       "      <th>ticker</th>\n",
       "      <th>AAPL</th>\n",
       "      <th>IBM</th>\n",
       "    </tr>\n",
       "    <tr>\n",
       "      <th>Datetime</th>\n",
       "      <th></th>\n",
       "      <th></th>\n",
       "    </tr>\n",
       "  </thead>\n",
       "  <tbody>\n",
       "    <tr>\n",
       "      <th>2024-03-04 04:00:00-05:00</th>\n",
       "      <td>179.18</td>\n",
       "      <td>188.87</td>\n",
       "    </tr>\n",
       "    <tr>\n",
       "      <th>2024-03-04 04:01:00-05:00</th>\n",
       "      <td>179.02</td>\n",
       "      <td>188.87</td>\n",
       "    </tr>\n",
       "    <tr>\n",
       "      <th>2024-03-04 04:02:00-05:00</th>\n",
       "      <td>179.08</td>\n",
       "      <td>188.26</td>\n",
       "    </tr>\n",
       "    <tr>\n",
       "      <th>2024-03-04 04:03:00-05:00</th>\n",
       "      <td>179.00</td>\n",
       "      <td>188.25</td>\n",
       "    </tr>\n",
       "    <tr>\n",
       "      <th>2024-03-04 04:04:00-05:00</th>\n",
       "      <td>178.96</td>\n",
       "      <td>188.25</td>\n",
       "    </tr>\n",
       "    <tr>\n",
       "      <th>...</th>\n",
       "      <td>...</td>\n",
       "      <td>...</td>\n",
       "    </tr>\n",
       "    <tr>\n",
       "      <th>2024-03-08 19:56:00-05:00</th>\n",
       "      <td>170.42</td>\n",
       "      <td>195.49</td>\n",
       "    </tr>\n",
       "    <tr>\n",
       "      <th>2024-03-08 19:57:00-05:00</th>\n",
       "      <td>170.40</td>\n",
       "      <td>195.49</td>\n",
       "    </tr>\n",
       "    <tr>\n",
       "      <th>2024-03-08 19:58:00-05:00</th>\n",
       "      <td>170.46</td>\n",
       "      <td>195.49</td>\n",
       "    </tr>\n",
       "    <tr>\n",
       "      <th>2024-03-08 19:59:00-05:00</th>\n",
       "      <td>170.48</td>\n",
       "      <td>195.48</td>\n",
       "    </tr>\n",
       "    <tr>\n",
       "      <th>2024-03-08 20:00:00-05:00</th>\n",
       "      <td>170.48</td>\n",
       "      <td>195.48</td>\n",
       "    </tr>\n",
       "  </tbody>\n",
       "</table>\n",
       "<p>4722 rows × 2 columns</p>\n",
       "</div>"
      ],
      "text/plain": [
       "ticker                       AAPL     IBM\n",
       "Datetime                                 \n",
       "2024-03-04 04:00:00-05:00  179.18  188.87\n",
       "2024-03-04 04:01:00-05:00  179.02  188.87\n",
       "2024-03-04 04:02:00-05:00  179.08  188.26\n",
       "2024-03-04 04:03:00-05:00  179.00  188.25\n",
       "2024-03-04 04:04:00-05:00  178.96  188.25\n",
       "...                           ...     ...\n",
       "2024-03-08 19:56:00-05:00  170.42  195.49\n",
       "2024-03-08 19:57:00-05:00  170.40  195.49\n",
       "2024-03-08 19:58:00-05:00  170.46  195.49\n",
       "2024-03-08 19:59:00-05:00  170.48  195.48\n",
       "2024-03-08 20:00:00-05:00  170.48  195.48\n",
       "\n",
       "[4722 rows x 2 columns]"
      ]
     },
     "execution_count": 126,
     "metadata": {},
     "output_type": "execute_result"
    }
   ],
   "source": [
    "df"
   ]
  },
  {
   "cell_type": "markdown",
   "metadata": {},
   "source": [
    "# Server Testing"
   ]
  },
  {
   "cell_type": "code",
   "execution_count": 3,
   "metadata": {},
   "outputs": [],
   "source": [
    "import server"
   ]
  },
  {
   "cell_type": "code",
   "execution_count": 2,
   "metadata": {},
   "outputs": [
    {
     "ename": "NameError",
     "evalue": "name 'importlib' is not defined",
     "output_type": "error",
     "traceback": [
      "\u001b[0;31m---------------------------------------------------------------------------\u001b[0m",
      "\u001b[0;31mNameError\u001b[0m                                 Traceback (most recent call last)",
      "\u001b[1;32m/Users/kartikeysinha/Desktop/ktk_dev.nosync/github/OTPP_project_1/api_exploration.ipynb Cell 21\u001b[0m line \u001b[0;36m1\n\u001b[0;32m----> <a href='vscode-notebook-cell:/Users/kartikeysinha/Desktop/ktk_dev.nosync/github/OTPP_project_1/api_exploration.ipynb#X40sZmlsZQ%3D%3D?line=0'>1</a>\u001b[0m importlib\u001b[39m.\u001b[39mreload(server)\n",
      "\u001b[0;31mNameError\u001b[0m: name 'importlib' is not defined"
     ]
    }
   ],
   "source": [
    "importlib.reload(server)"
   ]
  },
  {
   "cell_type": "code",
   "execution_count": 4,
   "metadata": {},
   "outputs": [
    {
     "name": "stdout",
     "output_type": "stream",
     "text": [
      "NOTE: Getting the latest data available.\n"
     ]
    },
    {
     "name": "stderr",
     "output_type": "stream",
     "text": [
      "[*********************100%%**********************]  2 of 2 completed"
     ]
    },
    {
     "name": "stdout",
     "output_type": "stream",
     "text": [
      "     ticker    value ticker  value ticker  value\n",
      "9336   TSLA  174.880   TSLA   -1.0   TSLA -0.070\n",
      "9337   TSLA  174.950   TSLA   -1.0   TSLA  0.055\n",
      "9338   TSLA  174.895   TSLA   -1.0   TSLA -0.055\n",
      "9339   TSLA  174.950   TSLA   -1.0   TSLA  0.005\n",
      "9340   TSLA  174.945   TSLA   -1.0   TSLA  0.010\n",
      "9341   TSLA  174.935   TSLA   -1.0   TSLA -0.035\n",
      "9342   TSLA  174.970   TSLA   -1.0   TSLA -0.020\n",
      "9343   TSLA  174.990   TSLA   -1.0   TSLA -0.000\n",
      "9344   TSLA  174.990   TSLA   -1.0   TSLA  0.030\n",
      "9345   TSLA  174.960   TSLA   -1.0   TSLA  0.080\n",
      "9346   TSLA  174.880   TSLA   -1.0   TSLA -0.010\n",
      "9347   TSLA  174.890   TSLA   -1.0   TSLA -0.000\n",
      "9348   TSLA  174.890   TSLA   -1.0   TSLA -0.070\n",
      "9349   TSLA  174.960   TSLA   -1.0   TSLA -0.010\n",
      "9350   TSLA  174.970   TSLA   -1.0   TSLA -0.005\n",
      "9351   TSLA  174.975   TSLA   -1.0   TSLA -0.015\n",
      "9352   TSLA  174.990   TSLA   -1.0   TSLA -0.000\n",
      "9353   TSLA  174.990   TSLA   -1.0   TSLA  0.010\n",
      "9354   TSLA  174.980   TSLA   -1.0   TSLA -0.000\n",
      "9355   TSLA  174.980   TSLA   -1.0   TSLA    NaN\n"
     ]
    },
    {
     "name": "stderr",
     "output_type": "stream",
     "text": [
      "\n"
     ]
    }
   ],
   "source": [
    "server = server.Server(supported_assets=[\"AAPL\", \"TSLA\"], port=8000)"
   ]
  },
  {
   "cell_type": "code",
   "execution_count": 5,
   "metadata": {},
   "outputs": [
    {
     "name": "stderr",
     "output_type": "stream",
     "text": [
      "[*********************100%%**********************]  2 of 2 completed"
     ]
    },
    {
     "name": "stdout",
     "output_type": "stream",
     "text": [
      "NOTE: Getting the latest data available.\n"
     ]
    },
    {
     "name": "stderr",
     "output_type": "stream",
     "text": [
      "\n"
     ]
    }
   ],
   "source": [
    "prices = server._get_data( \"1m\", dt.datetime.now() )\n",
    "signals = server._calc_signal( \"1m\", prices )\n",
    "pnl = server._calc_pnl(signals, prices)"
   ]
  },
  {
   "cell_type": "code",
   "execution_count": 6,
   "metadata": {},
   "outputs": [],
   "source": [
    "frames  = []\n",
    "for col_name, cur_df in [('price', prices), ('signal', signals), ('pnl', pnl)]:\n",
    "    frames.append(cur_df.melt(ignore_index=False, value_name=col_name).set_index('ticker', append=True))"
   ]
  },
  {
   "cell_type": "code",
   "execution_count": 16,
   "metadata": {},
   "outputs": [],
   "source": [
    "final_df = pd.concat(frames, axis=1).reset_index(level=1)"
   ]
  },
  {
   "cell_type": "code",
   "execution_count": 20,
   "metadata": {},
   "outputs": [
    {
     "data": {
      "text/plain": [
       "DatetimeIndex(['2024-03-04 04:00:00-05:00', '2024-03-04 04:01:00-05:00',\n",
       "               '2024-03-04 04:02:00-05:00', '2024-03-04 04:03:00-05:00',\n",
       "               '2024-03-04 04:04:00-05:00', '2024-03-04 04:05:00-05:00',\n",
       "               '2024-03-04 04:06:00-05:00', '2024-03-04 04:07:00-05:00',\n",
       "               '2024-03-04 04:08:00-05:00', '2024-03-04 04:09:00-05:00',\n",
       "               ...\n",
       "               '2024-03-08 19:51:00-05:00', '2024-03-08 19:52:00-05:00',\n",
       "               '2024-03-08 19:53:00-05:00', '2024-03-08 19:54:00-05:00',\n",
       "               '2024-03-08 19:55:00-05:00', '2024-03-08 19:56:00-05:00',\n",
       "               '2024-03-08 19:57:00-05:00', '2024-03-08 19:58:00-05:00',\n",
       "               '2024-03-08 19:59:00-05:00', '2024-03-08 20:00:00-05:00'],\n",
       "              dtype='datetime64[ns, America/New_York]', name='datetime', length=9356, freq=None)"
      ]
     },
     "execution_count": 20,
     "metadata": {},
     "output_type": "execute_result"
    }
   ],
   "source": [
    "final_df.index"
   ]
  },
  {
   "cell_type": "code",
   "execution_count": 10,
   "metadata": {},
   "outputs": [
    {
     "data": {
      "text/html": [
       "<div>\n",
       "<style scoped>\n",
       "    .dataframe tbody tr th:only-of-type {\n",
       "        vertical-align: middle;\n",
       "    }\n",
       "\n",
       "    .dataframe tbody tr th {\n",
       "        vertical-align: top;\n",
       "    }\n",
       "\n",
       "    .dataframe thead th {\n",
       "        text-align: right;\n",
       "    }\n",
       "</style>\n",
       "<table border=\"1\" class=\"dataframe\">\n",
       "  <thead>\n",
       "    <tr style=\"text-align: right;\">\n",
       "      <th></th>\n",
       "      <th>datetime</th>\n",
       "      <th>ticker</th>\n",
       "      <th>price</th>\n",
       "      <th>signal</th>\n",
       "      <th>pnl</th>\n",
       "    </tr>\n",
       "  </thead>\n",
       "  <tbody>\n",
       "    <tr>\n",
       "      <th>0</th>\n",
       "      <td>2024-03-04 04:00:00-05:00</td>\n",
       "      <td>AAPL</td>\n",
       "      <td>179.180</td>\n",
       "      <td>NaN</td>\n",
       "      <td>NaN</td>\n",
       "    </tr>\n",
       "    <tr>\n",
       "      <th>1</th>\n",
       "      <td>2024-03-04 04:01:00-05:00</td>\n",
       "      <td>AAPL</td>\n",
       "      <td>179.020</td>\n",
       "      <td>NaN</td>\n",
       "      <td>NaN</td>\n",
       "    </tr>\n",
       "    <tr>\n",
       "      <th>2</th>\n",
       "      <td>2024-03-04 04:02:00-05:00</td>\n",
       "      <td>AAPL</td>\n",
       "      <td>179.080</td>\n",
       "      <td>NaN</td>\n",
       "      <td>NaN</td>\n",
       "    </tr>\n",
       "    <tr>\n",
       "      <th>3</th>\n",
       "      <td>2024-03-04 04:03:00-05:00</td>\n",
       "      <td>AAPL</td>\n",
       "      <td>179.000</td>\n",
       "      <td>NaN</td>\n",
       "      <td>NaN</td>\n",
       "    </tr>\n",
       "    <tr>\n",
       "      <th>4</th>\n",
       "      <td>2024-03-04 04:04:00-05:00</td>\n",
       "      <td>AAPL</td>\n",
       "      <td>178.960</td>\n",
       "      <td>NaN</td>\n",
       "      <td>NaN</td>\n",
       "    </tr>\n",
       "    <tr>\n",
       "      <th>...</th>\n",
       "      <td>...</td>\n",
       "      <td>...</td>\n",
       "      <td>...</td>\n",
       "      <td>...</td>\n",
       "      <td>...</td>\n",
       "    </tr>\n",
       "    <tr>\n",
       "      <th>9351</th>\n",
       "      <td>2024-03-08 19:56:00-05:00</td>\n",
       "      <td>TSLA</td>\n",
       "      <td>174.975</td>\n",
       "      <td>-1.0</td>\n",
       "      <td>-0.015</td>\n",
       "    </tr>\n",
       "    <tr>\n",
       "      <th>9352</th>\n",
       "      <td>2024-03-08 19:57:00-05:00</td>\n",
       "      <td>TSLA</td>\n",
       "      <td>174.990</td>\n",
       "      <td>-1.0</td>\n",
       "      <td>-0.000</td>\n",
       "    </tr>\n",
       "    <tr>\n",
       "      <th>9353</th>\n",
       "      <td>2024-03-08 19:58:00-05:00</td>\n",
       "      <td>TSLA</td>\n",
       "      <td>174.990</td>\n",
       "      <td>-1.0</td>\n",
       "      <td>0.010</td>\n",
       "    </tr>\n",
       "    <tr>\n",
       "      <th>9354</th>\n",
       "      <td>2024-03-08 19:59:00-05:00</td>\n",
       "      <td>TSLA</td>\n",
       "      <td>174.980</td>\n",
       "      <td>-1.0</td>\n",
       "      <td>-0.000</td>\n",
       "    </tr>\n",
       "    <tr>\n",
       "      <th>9355</th>\n",
       "      <td>2024-03-08 20:00:00-05:00</td>\n",
       "      <td>TSLA</td>\n",
       "      <td>174.980</td>\n",
       "      <td>-1.0</td>\n",
       "      <td>NaN</td>\n",
       "    </tr>\n",
       "  </tbody>\n",
       "</table>\n",
       "<p>9356 rows × 5 columns</p>\n",
       "</div>"
      ],
      "text/plain": [
       "                      datetime ticker    price  signal    pnl\n",
       "0    2024-03-04 04:00:00-05:00   AAPL  179.180     NaN    NaN\n",
       "1    2024-03-04 04:01:00-05:00   AAPL  179.020     NaN    NaN\n",
       "2    2024-03-04 04:02:00-05:00   AAPL  179.080     NaN    NaN\n",
       "3    2024-03-04 04:03:00-05:00   AAPL  179.000     NaN    NaN\n",
       "4    2024-03-04 04:04:00-05:00   AAPL  178.960     NaN    NaN\n",
       "...                        ...    ...      ...     ...    ...\n",
       "9351 2024-03-08 19:56:00-05:00   TSLA  174.975    -1.0 -0.015\n",
       "9352 2024-03-08 19:57:00-05:00   TSLA  174.990    -1.0 -0.000\n",
       "9353 2024-03-08 19:58:00-05:00   TSLA  174.990    -1.0  0.010\n",
       "9354 2024-03-08 19:59:00-05:00   TSLA  174.980    -1.0 -0.000\n",
       "9355 2024-03-08 20:00:00-05:00   TSLA  174.980    -1.0    NaN\n",
       "\n",
       "[9356 rows x 5 columns]"
      ]
     },
     "execution_count": 10,
     "metadata": {},
     "output_type": "execute_result"
    }
   ],
   "source": [
    "final_df['datetime'] = final_df['datetime'].dt.strp"
   ]
  }
 ],
 "metadata": {
  "kernelspec": {
   "display_name": "Python 3",
   "language": "python",
   "name": "python3"
  },
  "language_info": {
   "codemirror_mode": {
    "name": "ipython",
    "version": 3
   },
   "file_extension": ".py",
   "mimetype": "text/x-python",
   "name": "python",
   "nbconvert_exporter": "python",
   "pygments_lexer": "ipython3",
   "version": "3.10.13"
  }
 },
 "nbformat": 4,
 "nbformat_minor": 2
}
