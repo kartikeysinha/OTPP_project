{
 "cells": [
  {
   "cell_type": "code",
   "execution_count": 93,
   "metadata": {},
   "outputs": [],
   "source": [
    "import pandas as pd\n",
    "import numpy as np\n",
    "import requests\n",
    "import os\n",
    "import dotenv\n",
    "import datetime as dt\n",
    "import pytz\n",
    "from zoneinfo import ZoneInfo\n",
    "import importlib\n",
    "import yfinance as yf\n",
    "\n",
    "# import secrets"
   ]
  },
  {
   "cell_type": "code",
   "execution_count": 7,
   "metadata": {},
   "outputs": [
    {
     "data": {
      "text/plain": [
       "True"
      ]
     },
     "execution_count": 7,
     "metadata": {},
     "output_type": "execute_result"
    }
   ],
   "source": [
    "dotenv.load_dotenv()"
   ]
  },
  {
   "cell_type": "markdown",
   "metadata": {},
   "source": [
    "# Alpha Vantage"
   ]
  },
  {
   "cell_type": "code",
   "execution_count": 27,
   "metadata": {},
   "outputs": [
    {
     "data": {
      "text/html": [
       "<div>\n",
       "<style scoped>\n",
       "    .dataframe tbody tr th:only-of-type {\n",
       "        vertical-align: middle;\n",
       "    }\n",
       "\n",
       "    .dataframe tbody tr th {\n",
       "        vertical-align: top;\n",
       "    }\n",
       "\n",
       "    .dataframe thead th {\n",
       "        text-align: right;\n",
       "    }\n",
       "</style>\n",
       "<table border=\"1\" class=\"dataframe\">\n",
       "  <thead>\n",
       "    <tr style=\"text-align: right;\">\n",
       "      <th></th>\n",
       "      <th>1. open</th>\n",
       "      <th>2. high</th>\n",
       "      <th>3. low</th>\n",
       "      <th>4. close</th>\n",
       "      <th>5. volume</th>\n",
       "    </tr>\n",
       "  </thead>\n",
       "  <tbody>\n",
       "    <tr>\n",
       "      <th>2009-01-30 19:55:00</th>\n",
       "      <td>52.0630</td>\n",
       "      <td>52.2570</td>\n",
       "      <td>51.7920</td>\n",
       "      <td>51.9970</td>\n",
       "      <td>209</td>\n",
       "    </tr>\n",
       "    <tr>\n",
       "      <th>2009-01-30 17:40:00</th>\n",
       "      <td>52.0920</td>\n",
       "      <td>52.2850</td>\n",
       "      <td>51.8200</td>\n",
       "      <td>52.0250</td>\n",
       "      <td>84726</td>\n",
       "    </tr>\n",
       "    <tr>\n",
       "      <th>2009-01-30 17:15:00</th>\n",
       "      <td>52.4020</td>\n",
       "      <td>52.5960</td>\n",
       "      <td>52.1290</td>\n",
       "      <td>52.3350</td>\n",
       "      <td>2651</td>\n",
       "    </tr>\n",
       "    <tr>\n",
       "      <th>2009-01-30 17:10:00</th>\n",
       "      <td>52.0920</td>\n",
       "      <td>52.2850</td>\n",
       "      <td>51.8200</td>\n",
       "      <td>52.0250</td>\n",
       "      <td>359</td>\n",
       "    </tr>\n",
       "    <tr>\n",
       "      <th>2009-01-30 17:05:00</th>\n",
       "      <td>51.8930</td>\n",
       "      <td>52.0910</td>\n",
       "      <td>51.6230</td>\n",
       "      <td>51.8320</td>\n",
       "      <td>334</td>\n",
       "    </tr>\n",
       "    <tr>\n",
       "      <th>...</th>\n",
       "      <td>...</td>\n",
       "      <td>...</td>\n",
       "      <td>...</td>\n",
       "      <td>...</td>\n",
       "      <td>...</td>\n",
       "    </tr>\n",
       "    <tr>\n",
       "      <th>2009-01-02 08:30:00</th>\n",
       "      <td>47.8350</td>\n",
       "      <td>48.0120</td>\n",
       "      <td>47.5850</td>\n",
       "      <td>47.7730</td>\n",
       "      <td>9110</td>\n",
       "    </tr>\n",
       "    <tr>\n",
       "      <th>2009-01-02 08:25:00</th>\n",
       "      <td>47.8350</td>\n",
       "      <td>48.0120</td>\n",
       "      <td>47.5850</td>\n",
       "      <td>47.7730</td>\n",
       "      <td>1733</td>\n",
       "    </tr>\n",
       "    <tr>\n",
       "      <th>2009-01-02 08:15:00</th>\n",
       "      <td>47.8400</td>\n",
       "      <td>48.0180</td>\n",
       "      <td>47.5910</td>\n",
       "      <td>47.7790</td>\n",
       "      <td>104</td>\n",
       "    </tr>\n",
       "    <tr>\n",
       "      <th>2009-01-02 08:05:00</th>\n",
       "      <td>47.8350</td>\n",
       "      <td>48.0120</td>\n",
       "      <td>47.5850</td>\n",
       "      <td>47.7730</td>\n",
       "      <td>1733</td>\n",
       "    </tr>\n",
       "    <tr>\n",
       "      <th>2009-01-02 08:00:00</th>\n",
       "      <td>48.0280</td>\n",
       "      <td>48.2060</td>\n",
       "      <td>47.7780</td>\n",
       "      <td>47.9660</td>\n",
       "      <td>104</td>\n",
       "    </tr>\n",
       "  </tbody>\n",
       "</table>\n",
       "<p>2088 rows × 5 columns</p>\n",
       "</div>"
      ],
      "text/plain": [
       "                     1. open  2. high   3. low 4. close 5. volume\n",
       "2009-01-30 19:55:00  52.0630  52.2570  51.7920  51.9970       209\n",
       "2009-01-30 17:40:00  52.0920  52.2850  51.8200  52.0250     84726\n",
       "2009-01-30 17:15:00  52.4020  52.5960  52.1290  52.3350      2651\n",
       "2009-01-30 17:10:00  52.0920  52.2850  51.8200  52.0250       359\n",
       "2009-01-30 17:05:00  51.8930  52.0910  51.6230  51.8320       334\n",
       "...                      ...      ...      ...      ...       ...\n",
       "2009-01-02 08:30:00  47.8350  48.0120  47.5850  47.7730      9110\n",
       "2009-01-02 08:25:00  47.8350  48.0120  47.5850  47.7730      1733\n",
       "2009-01-02 08:15:00  47.8400  48.0180  47.5910  47.7790       104\n",
       "2009-01-02 08:05:00  47.8350  48.0120  47.5850  47.7730      1733\n",
       "2009-01-02 08:00:00  48.0280  48.2060  47.7780  47.9660       104\n",
       "\n",
       "[2088 rows x 5 columns]"
      ]
     },
     "execution_count": 27,
     "metadata": {},
     "output_type": "execute_result"
    }
   ],
   "source": [
    "function_name=\"TIME_SERIES_INTRADAY\"\n",
    "symbol=\"IBM\"\n",
    "interval=\"60min\"\n",
    "apikey=os.environ.get(\"ALPHA_VANTAGE_API_KEY\")\n",
    "\n",
    "url = f'https://www.alphavantage.co/query?function={function_name}&symbol={symbol}&interval={interval}&apikey={apikey}&outputsize=full&month=2009-01'\n",
    "r = requests.get(url)\n",
    "data = r.json()\n",
    "\n",
    "pd.DataFrame.from_dict(data[f'Time Series ({interval})'], orient='index')"
   ]
  },
  {
   "cell_type": "code",
   "execution_count": 28,
   "metadata": {},
   "outputs": [
    {
     "ename": "KeyError",
     "evalue": "'Time Series (5min)'",
     "output_type": "error",
     "traceback": [
      "\u001b[0;31m---------------------------------------------------------------------------\u001b[0m",
      "\u001b[0;31mKeyError\u001b[0m                                  Traceback (most recent call last)",
      "\u001b[1;32m/Users/kartikeysinha/Desktop/ktk_dev.nosync/github/OTPP_project/project1/api_exploration.ipynb Cell 5\u001b[0m line \u001b[0;36m1\n\u001b[1;32m      <a href='vscode-notebook-cell:/Users/kartikeysinha/Desktop/ktk_dev.nosync/github/OTPP_project/project1/api_exploration.ipynb#W5sZmlsZQ%3D%3D?line=6'>7</a>\u001b[0m r \u001b[39m=\u001b[39m requests\u001b[39m.\u001b[39mget(url)\n\u001b[1;32m      <a href='vscode-notebook-cell:/Users/kartikeysinha/Desktop/ktk_dev.nosync/github/OTPP_project/project1/api_exploration.ipynb#W5sZmlsZQ%3D%3D?line=7'>8</a>\u001b[0m data \u001b[39m=\u001b[39m r\u001b[39m.\u001b[39mjson()\n\u001b[0;32m---> <a href='vscode-notebook-cell:/Users/kartikeysinha/Desktop/ktk_dev.nosync/github/OTPP_project/project1/api_exploration.ipynb#W5sZmlsZQ%3D%3D?line=9'>10</a>\u001b[0m pd\u001b[39m.\u001b[39mDataFrame\u001b[39m.\u001b[39mfrom_dict(data[\u001b[39mf\u001b[39;49m\u001b[39m'\u001b[39;49m\u001b[39mTime Series (\u001b[39;49m\u001b[39m{\u001b[39;49;00minterval\u001b[39m}\u001b[39;49;00m\u001b[39m)\u001b[39;49m\u001b[39m'\u001b[39;49m], orient\u001b[39m=\u001b[39m\u001b[39m'\u001b[39m\u001b[39mindex\u001b[39m\u001b[39m'\u001b[39m)\n",
      "\u001b[0;31mKeyError\u001b[0m: 'Time Series (5min)'"
     ]
    }
   ],
   "source": [
    "function_name=\"TIME_SERIES_INTRADAY\"\n",
    "symbol=\"IBM,AAPL\"\n",
    "interval=\"5min\"\n",
    "apikey=os.environ.get(\"ALPHA_VANTAGE_API_KEY\")\n",
    "\n",
    "url = f'https://www.alphavantage.co/query?function={function_name}&symbol={symbol}&interval={interval}&apikey={apikey}&outputsize=full&month=2009-01'\n",
    "r = requests.get(url)\n",
    "data = r.json()\n",
    "\n",
    "pd.DataFrame.from_dict(data[f'Time Series ({interval})'], orient='index')"
   ]
  },
  {
   "cell_type": "markdown",
   "metadata": {},
   "source": [
    "# Finnhub"
   ]
  },
  {
   "cell_type": "code",
   "execution_count": 46,
   "metadata": {},
   "outputs": [],
   "source": [
    "import finnhub"
   ]
  },
  {
   "cell_type": "code",
   "execution_count": 47,
   "metadata": {},
   "outputs": [],
   "source": [
    "finnhub_client = finnhub.Client(api_key=os.environ.get(\"FINNHUB_API_KEY\"))"
   ]
  },
  {
   "cell_type": "code",
   "execution_count": 48,
   "metadata": {},
   "outputs": [
    {
     "name": "stdout",
     "output_type": "stream",
     "text": [
      "{'c': 170.73, 'd': 1.73, 'dp': 1.0237, 'h': 173.7, 'l': 168.94, 'o': 169, 'pc': 169, 't': 1709931601}\n"
     ]
    }
   ],
   "source": [
    "print(finnhub_client.quote('AAPL'))"
   ]
  },
  {
   "cell_type": "code",
   "execution_count": 49,
   "metadata": {},
   "outputs": [
    {
     "data": {
      "text/plain": [
       "1709931601"
      ]
     },
     "execution_count": 49,
     "metadata": {},
     "output_type": "execute_result"
    }
   ],
   "source": [
    "finnhub_client.quote('AAPL')['t']"
   ]
  },
  {
   "cell_type": "markdown",
   "metadata": {},
   "source": [
    "# Testing the DataGrabber Classes"
   ]
  },
  {
   "cell_type": "code",
   "execution_count": 88,
   "metadata": {},
   "outputs": [],
   "source": [
    "import data_grabber"
   ]
  },
  {
   "cell_type": "code",
   "execution_count": 98,
   "metadata": {},
   "outputs": [
    {
     "data": {
      "text/plain": [
       "<module 'data_grabber' from '/Users/kartikeysinha/Desktop/ktk_dev.nosync/github/OTPP_project/project1/data_grabber.py'>"
      ]
     },
     "execution_count": 98,
     "metadata": {},
     "output_type": "execute_result"
    }
   ],
   "source": [
    "importlib.reload(data_grabber)"
   ]
  },
  {
   "cell_type": "code",
   "execution_count": 99,
   "metadata": {},
   "outputs": [],
   "source": [
    "av = data_grabber.AlphaVantageAPI()\n",
    "fh = data_grabber.FinnHubAPI()\n",
    "yfin = data_grabber.YahooFinance()\n",
    "dg = data_grabber.DataGrabber()"
   ]
  },
  {
   "cell_type": "code",
   "execution_count": 100,
   "metadata": {},
   "outputs": [
    {
     "name": "stderr",
     "output_type": "stream",
     "text": [
      "[*********************100%%**********************]  2 of 2 completed\n"
     ]
    },
    {
     "data": {
      "text/html": [
       "<div>\n",
       "<style scoped>\n",
       "    .dataframe tbody tr th:only-of-type {\n",
       "        vertical-align: middle;\n",
       "    }\n",
       "\n",
       "    .dataframe tbody tr th {\n",
       "        vertical-align: top;\n",
       "    }\n",
       "\n",
       "    .dataframe thead th {\n",
       "        text-align: right;\n",
       "    }\n",
       "</style>\n",
       "<table border=\"1\" class=\"dataframe\">\n",
       "  <thead>\n",
       "    <tr style=\"text-align: right;\">\n",
       "      <th>ticker</th>\n",
       "      <th>AAPL</th>\n",
       "      <th>IBM</th>\n",
       "    </tr>\n",
       "    <tr>\n",
       "      <th>datetime</th>\n",
       "      <th></th>\n",
       "      <th></th>\n",
       "    </tr>\n",
       "  </thead>\n",
       "  <tbody>\n",
       "    <tr>\n",
       "      <th>2024-03-04 04:00:00-05:00</th>\n",
       "      <td>178.96</td>\n",
       "      <td>188.25</td>\n",
       "    </tr>\n",
       "    <tr>\n",
       "      <th>2024-03-04 04:05:00-05:00</th>\n",
       "      <td>179.19</td>\n",
       "      <td>188.31</td>\n",
       "    </tr>\n",
       "    <tr>\n",
       "      <th>2024-03-04 04:10:00-05:00</th>\n",
       "      <td>179.07</td>\n",
       "      <td>188.28</td>\n",
       "    </tr>\n",
       "    <tr>\n",
       "      <th>2024-03-04 04:15:00-05:00</th>\n",
       "      <td>178.97</td>\n",
       "      <td>188.79</td>\n",
       "    </tr>\n",
       "    <tr>\n",
       "      <th>2024-03-04 04:20:00-05:00</th>\n",
       "      <td>178.68</td>\n",
       "      <td>188.66</td>\n",
       "    </tr>\n",
       "    <tr>\n",
       "      <th>...</th>\n",
       "      <td>...</td>\n",
       "      <td>...</td>\n",
       "    </tr>\n",
       "    <tr>\n",
       "      <th>2024-03-08 19:40:00-05:00</th>\n",
       "      <td>170.29</td>\n",
       "      <td>195.94</td>\n",
       "    </tr>\n",
       "    <tr>\n",
       "      <th>2024-03-08 19:45:00-05:00</th>\n",
       "      <td>170.38</td>\n",
       "      <td>195.50</td>\n",
       "    </tr>\n",
       "    <tr>\n",
       "      <th>2024-03-08 19:50:00-05:00</th>\n",
       "      <td>170.36</td>\n",
       "      <td>195.50</td>\n",
       "    </tr>\n",
       "    <tr>\n",
       "      <th>2024-03-08 19:55:00-05:00</th>\n",
       "      <td>170.48</td>\n",
       "      <td>195.48</td>\n",
       "    </tr>\n",
       "    <tr>\n",
       "      <th>2024-03-08 20:00:00-05:00</th>\n",
       "      <td>170.48</td>\n",
       "      <td>195.48</td>\n",
       "    </tr>\n",
       "  </tbody>\n",
       "</table>\n",
       "<p>898 rows × 2 columns</p>\n",
       "</div>"
      ],
      "text/plain": [
       "ticker                       AAPL     IBM\n",
       "datetime                                 \n",
       "2024-03-04 04:00:00-05:00  178.96  188.25\n",
       "2024-03-04 04:05:00-05:00  179.19  188.31\n",
       "2024-03-04 04:10:00-05:00  179.07  188.28\n",
       "2024-03-04 04:15:00-05:00  178.97  188.79\n",
       "2024-03-04 04:20:00-05:00  178.68  188.66\n",
       "...                           ...     ...\n",
       "2024-03-08 19:40:00-05:00  170.29  195.94\n",
       "2024-03-08 19:45:00-05:00  170.38  195.50\n",
       "2024-03-08 19:50:00-05:00  170.36  195.50\n",
       "2024-03-08 19:55:00-05:00  170.48  195.48\n",
       "2024-03-08 20:00:00-05:00  170.48  195.48\n",
       "\n",
       "[898 rows x 2 columns]"
      ]
     },
     "execution_count": 100,
     "metadata": {},
     "output_type": "execute_result"
    }
   ],
   "source": [
    "df = dg.get_prices(\n",
    "    tickers=[\"AAPL\", \"IBM\"],\n",
    "    frequency=\"5m\"\n",
    ")\n",
    "df"
   ]
  },
  {
   "cell_type": "code",
   "execution_count": 103,
   "metadata": {},
   "outputs": [
    {
     "name": "stderr",
     "output_type": "stream",
     "text": [
      "[*********************100%%**********************]  1 of 1 completed\n"
     ]
    },
    {
     "data": {
      "text/html": [
       "<div>\n",
       "<style scoped>\n",
       "    .dataframe tbody tr th:only-of-type {\n",
       "        vertical-align: middle;\n",
       "    }\n",
       "\n",
       "    .dataframe tbody tr th {\n",
       "        vertical-align: top;\n",
       "    }\n",
       "\n",
       "    .dataframe thead th {\n",
       "        text-align: right;\n",
       "    }\n",
       "</style>\n",
       "<table border=\"1\" class=\"dataframe\">\n",
       "  <thead>\n",
       "    <tr style=\"text-align: right;\">\n",
       "      <th>ticker</th>\n",
       "      <th>AAPL</th>\n",
       "    </tr>\n",
       "    <tr>\n",
       "      <th>datetime</th>\n",
       "      <th></th>\n",
       "    </tr>\n",
       "  </thead>\n",
       "  <tbody>\n",
       "    <tr>\n",
       "      <th>2024-03-04 04:00:00-05:00</th>\n",
       "      <td>178.96</td>\n",
       "    </tr>\n",
       "    <tr>\n",
       "      <th>2024-03-04 04:05:00-05:00</th>\n",
       "      <td>179.19</td>\n",
       "    </tr>\n",
       "    <tr>\n",
       "      <th>2024-03-04 04:10:00-05:00</th>\n",
       "      <td>179.07</td>\n",
       "    </tr>\n",
       "    <tr>\n",
       "      <th>2024-03-04 04:15:00-05:00</th>\n",
       "      <td>178.97</td>\n",
       "    </tr>\n",
       "    <tr>\n",
       "      <th>2024-03-04 04:20:00-05:00</th>\n",
       "      <td>178.68</td>\n",
       "    </tr>\n",
       "    <tr>\n",
       "      <th>...</th>\n",
       "      <td>...</td>\n",
       "    </tr>\n",
       "    <tr>\n",
       "      <th>2024-03-08 19:40:00-05:00</th>\n",
       "      <td>170.29</td>\n",
       "    </tr>\n",
       "    <tr>\n",
       "      <th>2024-03-08 19:45:00-05:00</th>\n",
       "      <td>170.38</td>\n",
       "    </tr>\n",
       "    <tr>\n",
       "      <th>2024-03-08 19:50:00-05:00</th>\n",
       "      <td>170.36</td>\n",
       "    </tr>\n",
       "    <tr>\n",
       "      <th>2024-03-08 19:55:00-05:00</th>\n",
       "      <td>170.48</td>\n",
       "    </tr>\n",
       "    <tr>\n",
       "      <th>2024-03-08 20:00:00-05:00</th>\n",
       "      <td>170.48</td>\n",
       "    </tr>\n",
       "  </tbody>\n",
       "</table>\n",
       "<p>891 rows × 1 columns</p>\n",
       "</div>"
      ],
      "text/plain": [
       "ticker                       AAPL\n",
       "datetime                         \n",
       "2024-03-04 04:00:00-05:00  178.96\n",
       "2024-03-04 04:05:00-05:00  179.19\n",
       "2024-03-04 04:10:00-05:00  179.07\n",
       "2024-03-04 04:15:00-05:00  178.97\n",
       "2024-03-04 04:20:00-05:00  178.68\n",
       "...                           ...\n",
       "2024-03-08 19:40:00-05:00  170.29\n",
       "2024-03-08 19:45:00-05:00  170.38\n",
       "2024-03-08 19:50:00-05:00  170.36\n",
       "2024-03-08 19:55:00-05:00  170.48\n",
       "2024-03-08 20:00:00-05:00  170.48\n",
       "\n",
       "[891 rows x 1 columns]"
      ]
     },
     "execution_count": 103,
     "metadata": {},
     "output_type": "execute_result"
    }
   ],
   "source": [
    "df = dg.get_prices(\n",
    "    tickers=[\"AAPL\"],\n",
    "    frequency=\"5m\"\n",
    ")\n",
    "df"
   ]
  },
  {
   "cell_type": "markdown",
   "metadata": {},
   "source": [
    "# Server Testing"
   ]
  },
  {
   "cell_type": "code",
   "execution_count": 60,
   "metadata": {},
   "outputs": [],
   "source": [
    "import server"
   ]
  },
  {
   "cell_type": "code",
   "execution_count": 104,
   "metadata": {},
   "outputs": [
    {
     "data": {
      "text/plain": [
       "<module 'server' from '/Users/kartikeysinha/Desktop/ktk_dev.nosync/github/OTPP_project/project1/server.py'>"
      ]
     },
     "execution_count": 104,
     "metadata": {},
     "output_type": "execute_result"
    }
   ],
   "source": [
    "importlib.reload(server)"
   ]
  },
  {
   "cell_type": "code",
   "execution_count": 106,
   "metadata": {},
   "outputs": [
    {
     "name": "stderr",
     "output_type": "stream",
     "text": [
      "[*********************100%%**********************]  2 of 2 completed\n"
     ]
    }
   ],
   "source": [
    "serv = server.Server(supported_assets=[\"AAPL\", \"TSLA\"], port=8000)"
   ]
  },
  {
   "cell_type": "code",
   "execution_count": 10,
   "metadata": {},
   "outputs": [
    {
     "name": "stderr",
     "output_type": "stream",
     "text": [
      "[*********************100%%**********************]  2 of 2 completed\n"
     ]
    }
   ],
   "source": [
    "# prices = server._get_data_from_API( \"1m\", dt.datetime.now() )\n",
    "# signals = server._calc_signal( \"1m\", prices )\n",
    "# pnl = server._calc_pnl(signals, prices)\n",
    "\n",
    "# frames  = []\n",
    "# for col_name, cur_df in [('price', prices), ('signal', signals), ('pnl', pnl)]:\n",
    "#     frames.append(cur_df.melt(ignore_index=False, value_name=col_name).set_index('ticker', append=True))\n",
    "# final_df = pd.concat(frames, axis=1).reset_index()\n",
    "# print(final_df)"
   ]
  },
  {
   "cell_type": "code",
   "execution_count": 107,
   "metadata": {},
   "outputs": [
    {
     "name": "stdout",
     "output_type": "stream",
     "text": [
      "AAPL\t\t172.4,1.0\n",
      "TSLA\t\t176.14,-1.0\n",
      "\n"
     ]
    }
   ],
   "source": [
    "res = serv._get_data( dt.datetime(2024, 3, 8, 12, 10, 1, tzinfo=ZoneInfo(\"US/Eastern\")) )\n",
    "print(res)"
   ]
  },
  {
   "cell_type": "code",
   "execution_count": 109,
   "metadata": {},
   "outputs": [
    {
     "name": "stderr",
     "output_type": "stream",
     "text": [
      "[*********************100%%**********************]  1 of 1 completed\n"
     ]
    }
   ],
   "source": [
    "serv._add_ticker(\"NVDA\")"
   ]
  },
  {
   "cell_type": "code",
   "execution_count": 110,
   "metadata": {},
   "outputs": [
    {
     "name": "stdout",
     "output_type": "stream",
     "text": [
      "NVDA\t\t889.4,-1.0\n",
      "AAPL\t\t172.4,1.0\n",
      "TSLA\t\t176.14,-1.0\n",
      "\n"
     ]
    }
   ],
   "source": [
    "res = serv._get_data( dt.datetime(2024, 3, 8, 12, 10, 1, tzinfo=ZoneInfo(\"US/Eastern\")) )\n",
    "print(res)"
   ]
  },
  {
   "cell_type": "code",
   "execution_count": 111,
   "metadata": {},
   "outputs": [],
   "source": [
    "serv._add_ticker(\"AAPL\")"
   ]
  },
  {
   "cell_type": "code",
   "execution_count": 112,
   "metadata": {},
   "outputs": [],
   "source": [
    "serv._delete_ticker(\"AAPL\")"
   ]
  },
  {
   "cell_type": "code",
   "execution_count": 120,
   "metadata": {},
   "outputs": [
    {
     "name": "stdout",
     "output_type": "stream",
     "text": [
      "NVDA\t\t849.27,nan\n",
      "TSLA\t\t179.99,nan\n",
      "\n"
     ]
    }
   ],
   "source": [
    "res = serv._get_data( dt.datetime(2024, 3, 5, 12, 10, 1, tzinfo=ZoneInfo(\"US/Eastern\")) )\n",
    "print(res)"
   ]
  },
  {
   "cell_type": "code",
   "execution_count": 114,
   "metadata": {},
   "outputs": [
    {
     "name": "stderr",
     "output_type": "stream",
     "text": [
      "[*********************100%%**********************]  2 of 2 completed\n"
     ]
    }
   ],
   "source": [
    "serv._reconstruct_reports()"
   ]
  },
  {
   "cell_type": "code",
   "execution_count": 124,
   "metadata": {},
   "outputs": [],
   "source": [
    "time_info = dt.datetime.strptime(\"2024-08-01-15:23\", \"%Y-%m-%d-%H:%M\")"
   ]
  },
  {
   "cell_type": "code",
   "execution_count": 125,
   "metadata": {},
   "outputs": [
    {
     "data": {
      "text/plain": [
       "datetime.datetime(2024, 8, 1, 15, 23)"
      ]
     },
     "execution_count": 125,
     "metadata": {},
     "output_type": "execute_result"
    }
   ],
   "source": [
    "time_info"
   ]
  },
  {
   "cell_type": "code",
   "execution_count": 126,
   "metadata": {},
   "outputs": [],
   "source": [
    "tt = time_info.replace(tzinfo=ZoneInfo(\"US/Eastern\"))"
   ]
  },
  {
   "cell_type": "code",
   "execution_count": 127,
   "metadata": {},
   "outputs": [
    {
     "name": "stdout",
     "output_type": "stream",
     "text": [
      "NVDA\t\t851.0,-1.0\n",
      "TSLA\t\t174.98,-1.0\n",
      "\n"
     ]
    }
   ],
   "source": [
    "res = serv._get_data( tt )\n",
    "print(res)"
   ]
  },
  {
   "cell_type": "code",
   "execution_count": null,
   "metadata": {},
   "outputs": [],
   "source": []
  }
 ],
 "metadata": {
  "kernelspec": {
   "display_name": "Python 3",
   "language": "python",
   "name": "python3"
  },
  "language_info": {
   "codemirror_mode": {
    "name": "ipython",
    "version": 3
   },
   "file_extension": ".py",
   "mimetype": "text/x-python",
   "name": "python",
   "nbconvert_exporter": "python",
   "pygments_lexer": "ipython3",
   "version": "3.10.13"
  }
 },
 "nbformat": 4,
 "nbformat_minor": 2
}
